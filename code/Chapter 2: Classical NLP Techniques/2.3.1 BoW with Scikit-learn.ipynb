{
 "cells": [
  {
   "cell_type": "markdown",
   "id": "09728064",
   "metadata": {},
   "source": [
    "### BoW with Scikit-learn"
   ]
  },
  {
   "cell_type": "code",
   "execution_count": 7,
   "id": "6ea7224e",
   "metadata": {},
   "outputs": [
    {
     "name": "stdout",
     "output_type": "stream",
     "text": [
      "Vocabulary: ['fun' 'is' 'learning' 'love' 'machine' 'nlp']\n",
      "   fun  is  learning  love  machine  nlp\n",
      "0    0   0         0     1        0    1\n",
      "1    0   0         1     1        1    0\n",
      "2    1   1         0     0        0    1\n"
     ]
    }
   ],
   "source": [
    "from sklearn.feature_extraction.text import CountVectorizer\n",
    "\n",
    "# Our tiny corpus\n",
    "corpus = [\n",
    "    \"I love NLP\",\n",
    "    \"I love machine learning\",\n",
    "    \"NLP is fun\"\n",
    "]\n",
    "\n",
    "# Create the vectorizer\n",
    "vectorizer = CountVectorizer()\n",
    "\n",
    "# Fit and transform the corpus\n",
    "bow_matrix = vectorizer.fit_transform(corpus)\n",
    "\n",
    "\n",
    "# View the vocabulary\n",
    "print(\"Vocabulary:\", vectorizer.get_feature_names_out())\n",
    "\n",
    "# Convert the BoW matrix to array format\n",
    "import pandas as pd\n",
    "df = pd.DataFrame(bow_matrix.toarray(), columns=vectorizer.get_feature_names_out())\n",
    "print(df)"
   ]
  }
 ],
 "metadata": {
  "kernelspec": {
   "display_name": "ai",
   "language": "python",
   "name": "python3"
  },
  "language_info": {
   "codemirror_mode": {
    "name": "ipython",
    "version": 3
   },
   "file_extension": ".py",
   "mimetype": "text/x-python",
   "name": "python",
   "nbconvert_exporter": "python",
   "pygments_lexer": "ipython3",
   "version": "3.12.9"
  }
 },
 "nbformat": 4,
 "nbformat_minor": 5
}
