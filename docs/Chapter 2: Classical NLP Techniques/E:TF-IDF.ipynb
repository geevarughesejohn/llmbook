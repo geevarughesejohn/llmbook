{
 "cells": [
  {
   "cell_type": "code",
   "execution_count": 1,
   "id": "e3e74a92",
   "metadata": {},
   "outputs": [
    {
     "name": "stdout",
     "output_type": "stream",
     "text": [
      "        fun        is  learning      love   machine       nlp\n",
      "0  0.000000  0.000000  0.000000  0.707107  0.000000  0.707107\n",
      "1  0.000000  0.000000  0.622766  0.473630  0.622766  0.000000\n",
      "2  0.622766  0.622766  0.000000  0.000000  0.000000  0.473630\n"
     ]
    }
   ],
   "source": [
    "from sklearn.feature_extraction.text import TfidfVectorizer\n",
    "\n",
    "docs = [\n",
    "    \"I love NLP\",\n",
    "    \"I love machine learning\",\n",
    "    \"NLP is fun\"\n",
    "]\n",
    "\n",
    "# Create and fit the TF-IDF vectorizer\n",
    "vectorizer = TfidfVectorizer()\n",
    "tfidf_matrix = vectorizer.fit_transform(docs)\n",
    "\n",
    "# Convert to readable format\n",
    "import pandas as pd\n",
    "df = pd.DataFrame(tfidf_matrix.toarray(), columns=vectorizer.get_feature_names_out())\n",
    "print(df)"
   ]
  }
 ],
 "metadata": {
  "kernelspec": {
   "display_name": "ai",
   "language": "python",
   "name": "python3"
  },
  "language_info": {
   "codemirror_mode": {
    "name": "ipython",
    "version": 3
   },
   "file_extension": ".py",
   "mimetype": "text/x-python",
   "name": "python",
   "nbconvert_exporter": "python",
   "pygments_lexer": "ipython3",
   "version": "3.12.9"
  }
 },
 "nbformat": 4,
 "nbformat_minor": 5
}
