{
 "cells": [
  {
   "cell_type": "code",
   "execution_count": null,
   "id": "748caea1",
   "metadata": {},
   "outputs": [],
   "source": [
    "import numpy as np"
   ]
  },
  {
   "cell_type": "code",
   "execution_count": 3,
   "id": "af7a8446",
   "metadata": {},
   "outputs": [
    {
     "data": {
      "text/plain": [
       "{'I': 0, 'love': 1, 'cats': 2}"
      ]
     },
     "execution_count": 3,
     "metadata": {},
     "output_type": "execute_result"
    }
   ],
   "source": [
    "# ---- Step 1: Define the vocabulary ----\n",
    "vocab = [\"I\", \"love\", \"cats\"]\n",
    "word_to_ix = {word: i for i, word in enumerate(vocab)}\n",
    "word_to_ix\n"
   ]
  },
  {
   "cell_type": "code",
   "execution_count": 4,
   "id": "5ec0c4b7",
   "metadata": {},
   "outputs": [],
   "source": [
    "# ---- Step 2: One-hot encoding ----\n",
    "def one_hot(idx, size):\n",
    "    vec = np.zeros(size)\n",
    "    vec[idx] = 1.0\n",
    "    return vec\n"
   ]
  },
  {
   "cell_type": "code",
   "execution_count": 5,
   "id": "61a29f6e",
   "metadata": {},
   "outputs": [],
   "source": [
    "# ---- Step 3: Initialize weights and hidden state ----\n",
    "input_size = 3     # one-hot size\n",
    "hidden_size = 2    # size of the RNN memory\n"
   ]
  },
  {
   "cell_type": "code",
   "execution_count": 8,
   "id": "04874fe9",
   "metadata": {},
   "outputs": [
    {
     "data": {
      "text/plain": [
       "(array([[-0.04229369,  0.06272946,  0.02243791],\n",
       "        [-0.09266698, -0.01642113,  0.11307286]]),\n",
       " array([[-0.02324619, -0.06041382],\n",
       "        [-0.05441866, -0.05885374]]),\n",
       " array([0., 0.]),\n",
       " array([0., 0.]))"
      ]
     },
     "execution_count": 8,
     "metadata": {},
     "output_type": "execute_result"
    }
   ],
   "source": [
    "# Weights (random small numbers)\n",
    "W = np.random.randn(hidden_size, input_size) * 0.1\n",
    "U = np.random.randn(hidden_size, hidden_size) * 0.1\n",
    "b = np.zeros(hidden_size)\n",
    "\n",
    "# Initial hidden state\n",
    "h_prev = np.zeros(hidden_size)\n",
    "\n",
    "W, U, b, h_prev"
   ]
  },
  {
   "cell_type": "code",
   "execution_count": 9,
   "id": "deee1baf",
   "metadata": {},
   "outputs": [
    {
     "name": "stdout",
     "output_type": "stream",
     "text": [
      "Step-by-step hidden states:\n",
      "\n",
      "Word: I      | Hidden state: [-0.04226849 -0.09240264]\n",
      "Word: love   | Hidden state: [ 0.06918374 -0.00868247]\n",
      "Word: cats   | Hidden state: [0.02135095 0.10937961]\n"
     ]
    }
   ],
   "source": [
    "\n",
    "\n",
    "# ---- Step 4: Input sentence ----\n",
    "sentence = [\"I\", \"love\", \"cats\"]\n",
    "\n",
    "print(\"Step-by-step hidden states:\\n\")\n",
    "\n",
    "for word in sentence:\n",
    "    x = one_hot(word_to_ix[word], input_size)  # input vector\n",
    "    h_t = np.tanh(np.dot(W, x) + np.dot(U, h_prev) + b)  # RNN update\n",
    "    print(f\"Word: {word:5}  | Hidden state: {h_t}\")\n",
    "    h_prev = h_t  # carry hidden state forward"
   ]
  },
  {
   "cell_type": "code",
   "execution_count": 10,
   "id": "611d10f9",
   "metadata": {},
   "outputs": [
    {
     "name": "stdout",
     "output_type": "stream",
     "text": [
      "\n",
      "Final hidden state: [0.02135095 0.10937961]\n"
     ]
    }
   ],
   "source": [
    "# ---- Step 5: Final hidden state ----\n",
    "print(\"\\nFinal hidden state:\", h_prev)\n",
    "# This is the final hidden state after processing the entire sentence.\n",
    "# It can be used for further tasks like classification or sequence generation.\n",
    "# The hidden state captures the context of the input sequence.          "
   ]
  },
  {
   "cell_type": "code",
   "execution_count": null,
   "id": "7a361e30",
   "metadata": {},
   "outputs": [],
   "source": []
  }
 ],
 "metadata": {
  "kernelspec": {
   "display_name": "ai",
   "language": "python",
   "name": "python3"
  },
  "language_info": {
   "codemirror_mode": {
    "name": "ipython",
    "version": 3
   },
   "file_extension": ".py",
   "mimetype": "text/x-python",
   "name": "python",
   "nbconvert_exporter": "python",
   "pygments_lexer": "ipython3",
   "version": "3.12.9"
  }
 },
 "nbformat": 4,
 "nbformat_minor": 5
}
