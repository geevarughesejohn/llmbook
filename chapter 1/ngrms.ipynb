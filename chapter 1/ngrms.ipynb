{
 "cells": [
  {
   "cell_type": "code",
   "execution_count": 21,
   "id": "b09dd824",
   "metadata": {},
   "outputs": [],
   "source": [
    "from collections import defaultdict, Counter\n",
    "from typing import List, Tuple"
   ]
  },
  {
   "cell_type": "code",
   "execution_count": 22,
   "id": "522922a8",
   "metadata": {},
   "outputs": [],
   "source": [
    "# Sample corpus (can be extended)\n",
    "corpus = [\n",
    "    \"I love deep learning\",\n",
    "    \"I love machine learning\",\n",
    "    \"deep learning is fun\",\n",
    "    \"machine learning is powerful\"\n",
    "]"
   ]
  },
  {
   "cell_type": "code",
   "execution_count": 23,
   "id": "a9f1489f",
   "metadata": {},
   "outputs": [],
   "source": [
    "# Tokenize sentences into words\n",
    "def tokenize(corpus: List[str]) -> List[List[str]]:\n",
    "    return [sentence.lower().split() for sentence in corpus]\n"
   ]
  },
  {
   "cell_type": "code",
   "execution_count": 24,
   "id": "470a6a12",
   "metadata": {},
   "outputs": [],
   "source": [
    "# Generate n-grams\n",
    "def generate_ngrams(tokens: List[List[str]], n: int) -> List[Tuple[str, ...]]:\n",
    "    ngrams = []\n",
    "    for sentence in tokens:\n",
    "        if len(sentence) >= n:\n",
    "            for i in range(len(sentence) - n + 1):\n",
    "                ngrams.append(tuple(sentence[i:i+n]))\n",
    "    return ngrams"
   ]
  },
  {
   "cell_type": "code",
   "execution_count": 25,
   "id": "45234b08",
   "metadata": {},
   "outputs": [],
   "source": [
    "# Build n-gram model (frequency based)\n",
    "def build_ngram_model(ngrams: List[Tuple[str, ...]]) -> Counter:\n",
    "    return Counter(ngrams)"
   ]
  },
  {
   "cell_type": "code",
   "execution_count": 26,
   "id": "6d782f6b",
   "metadata": {},
   "outputs": [],
   "source": [
    "# Tokenize corpus\n",
    "tokenized = tokenize(corpus)"
   ]
  },
  {
   "cell_type": "code",
   "execution_count": 27,
   "id": "e07aa99d",
   "metadata": {},
   "outputs": [
    {
     "name": "stdout",
     "output_type": "stream",
     "text": [
      "Unigrams: [('i',), ('love',), ('deep',), ('learning',), ('i',), ('love',), ('machine',), ('learning',), ('deep',), ('learning',), ('is',), ('fun',), ('machine',), ('learning',), ('is',), ('powerful',)]\n",
      "Unigrams: [('i', 'love'), ('love', 'deep'), ('deep', 'learning'), ('i', 'love'), ('love', 'machine'), ('machine', 'learning'), ('deep', 'learning'), ('learning', 'is'), ('is', 'fun'), ('machine', 'learning'), ('learning', 'is'), ('is', 'powerful')]\n",
      "Trigrams: [('i', 'love', 'deep'), ('love', 'deep', 'learning'), ('i', 'love', 'machine'), ('love', 'machine', 'learning'), ('deep', 'learning', 'is'), ('learning', 'is', 'fun'), ('machine', 'learning', 'is'), ('learning', 'is', 'powerful')]\n"
     ]
    }
   ],
   "source": [
    "# Generate unigram, bigram, trigram models\n",
    "unigrams = generate_ngrams(tokenized, 1)\n",
    "bigrams = generate_ngrams(tokenized, 2)\n",
    "trigrams = generate_ngrams(tokenized, 3)\n",
    "\n",
    "print(\"Unigrams:\", unigrams)\n",
    "print(\"Unigrams:\", bigrams)\n",
    "print(\"Trigrams:\", trigrams)"
   ]
  },
  {
   "cell_type": "code",
   "execution_count": 28,
   "id": "db813ae2",
   "metadata": {},
   "outputs": [
    {
     "name": "stdout",
     "output_type": "stream",
     "text": [
      "Unigram Model: Counter({('learning',): 4, ('i',): 2, ('love',): 2, ('deep',): 2, ('machine',): 2, ('is',): 2, ('fun',): 1, ('powerful',): 1})\n",
      "Bigram Model: Counter({('i', 'love'): 2, ('deep', 'learning'): 2, ('machine', 'learning'): 2, ('learning', 'is'): 2, ('love', 'deep'): 1, ('love', 'machine'): 1, ('is', 'fun'): 1, ('is', 'powerful'): 1})\n",
      "Trigram Model: Counter({('i', 'love', 'deep'): 1, ('love', 'deep', 'learning'): 1, ('i', 'love', 'machine'): 1, ('love', 'machine', 'learning'): 1, ('deep', 'learning', 'is'): 1, ('learning', 'is', 'fun'): 1, ('machine', 'learning', 'is'): 1, ('learning', 'is', 'powerful'): 1})\n"
     ]
    }
   ],
   "source": [
    "# Build models\n",
    "unigram_model = build_ngram_model(unigrams)\n",
    "bigram_model = build_ngram_model(bigrams)\n",
    "trigram_model = build_ngram_model(trigrams)\n",
    "print(\"Unigram Model:\", unigram_model)\n",
    "print(\"Bigram Model:\", bigram_model)\n",
    "print(\"Trigram Model:\", trigram_model)\n",
    "\n"
   ]
  },
  {
   "cell_type": "code",
   "execution_count": 29,
   "id": "a2829407",
   "metadata": {},
   "outputs": [
    {
     "data": {
      "text/plain": [
       "([(('learning',), 4),\n",
       "  (('i',), 2),\n",
       "  (('love',), 2),\n",
       "  (('deep',), 2),\n",
       "  (('machine',), 2)],\n",
       " [(('i', 'love'), 2),\n",
       "  (('deep', 'learning'), 2),\n",
       "  (('machine', 'learning'), 2),\n",
       "  (('learning', 'is'), 2),\n",
       "  (('love', 'deep'), 1)],\n",
       " [(('i', 'love', 'deep'), 1),\n",
       "  (('love', 'deep', 'learning'), 1),\n",
       "  (('i', 'love', 'machine'), 1),\n",
       "  (('love', 'machine', 'learning'), 1),\n",
       "  (('deep', 'learning', 'is'), 1)])"
      ]
     },
     "execution_count": 29,
     "metadata": {},
     "output_type": "execute_result"
    }
   ],
   "source": [
    "# Show top 5 most common in each model\n",
    "top_unigrams = unigram_model.most_common(5)\n",
    "top_bigrams = bigram_model.most_common(5)\n",
    "top_trigrams = trigram_model.most_common(5)\n",
    "top_unigrams, top_bigrams, top_trigrams"
   ]
  },
  {
   "cell_type": "code",
   "execution_count": 37,
   "id": "b7d0f593",
   "metadata": {},
   "outputs": [],
   "source": [
    "# Function to predict next word based on n-gram model\n",
    "def predict_next_word(ngram_model: Counter, context: Tuple[str, ...], n: int) -> List[Tuple[str, int]]:\n",
    "    predictions = []\n",
    "    for ngram, count in ngram_model.items():\n",
    "        if ngram[:-1] == context:\n",
    "            predictions.append((ngram[-1], count))\n",
    "    return sorted(predictions, key=lambda x: x[1], reverse=True)\n"
   ]
  },
  {
   "cell_type": "code",
   "execution_count": 41,
   "id": "fb4618a2",
   "metadata": {},
   "outputs": [
    {
     "name": "stdout",
     "output_type": "stream",
     "text": [
      "Predictions for context ('deep',) : [('learning', 2)]\n"
     ]
    }
   ],
   "source": [
    "# Example usage of prediction\n",
    "context_bigram = (\"deep\", )\n",
    "predictions = predict_next_word(bigram_model, context_bigram, 2)\n",
    "print(\"Predictions for context\", context_bigram, \":\", predictions)\n"
   ]
  },
  {
   "cell_type": "code",
   "execution_count": 42,
   "id": "8e016424",
   "metadata": {},
   "outputs": [
    {
     "name": "stdout",
     "output_type": "stream",
     "text": [
      "Predictions for context ('machine', 'learning') : [('is', 1)]\n"
     ]
    }
   ],
   "source": [
    "# Example usage of prediction for trigram\n",
    "context_trigram = (\"machine\", \"learning\", )\n",
    "predictions_trigram = predict_next_word(trigram_model, context_trigram, 3)\n",
    "print(\"Predictions for context\", context_trigram, \":\", predictions_trigram)\n"
   ]
  },
  {
   "cell_type": "code",
   "execution_count": 44,
   "id": "312eda39",
   "metadata": {},
   "outputs": [
    {
     "name": "stdout",
     "output_type": "stream",
     "text": [
      "Predictions for context ('i',) : [('love', 2)]\n"
     ]
    }
   ],
   "source": [
    "# Example usage of prediction for unigram\n",
    "context_unigram = (\"i\",)\n",
    "predictions_unigram = predict_next_word(bigram_model, context_unigram, 1)\n",
    "print(\"Predictions for context\", context_unigram, \":\", predictions_unigram)\n"
   ]
  },
  {
   "cell_type": "code",
   "execution_count": 34,
   "id": "b99d0a69",
   "metadata": {},
   "outputs": [],
   "source": [
    "# Example usage of prediction for bigram\n",
    "context_bigram = (\"i\", \"love\")\n",
    "predictions_bigram = predict_next_word(bigram_model, context_bigram, 2) "
   ]
  }
 ],
 "metadata": {
  "kernelspec": {
   "display_name": "ai",
   "language": "python",
   "name": "python3"
  },
  "language_info": {
   "codemirror_mode": {
    "name": "ipython",
    "version": 3
   },
   "file_extension": ".py",
   "mimetype": "text/x-python",
   "name": "python",
   "nbconvert_exporter": "python",
   "pygments_lexer": "ipython3",
   "version": "3.12.9"
  }
 },
 "nbformat": 4,
 "nbformat_minor": 5
}
